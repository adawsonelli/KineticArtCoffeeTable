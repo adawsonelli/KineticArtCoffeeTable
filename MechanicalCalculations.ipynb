{
 "cells": [
  {
   "cell_type": "markdown",
   "metadata": {},
   "source": [
    "# Mechancial Calculations:\n",
    "These are a collection of notes for the mechanical design of the polar robot for the kinetic Art Coffee table project. \n",
    "\n",
    "\n",
    "### calculate GT2 pulley parameters\n",
    "solidworks equation editor was being buggy, so I'm scripting this...\n",
    "\n",
    "useful links:\n",
    "* [GT2 tooth profile](https://www.adafruit.com/product/1184)\n",
    "* [SDP-SI pulley reference manual](http://www.sdp-si.com/PDFS/Technical-Section-Timing.pdf)\n",
    "\n",
    "![GT2 Pitch Profile](./imgs/gt2tooth.jpg)\n",
    "![alternative](./imgs/g2-and-g3-belt.jpg)"
   ]
  },
  {
   "cell_type": "code",
   "execution_count": 1,
   "metadata": {},
   "outputs": [],
   "source": [
    "#imports:\n",
    "import numpy as np"
   ]
  },
  {
   "cell_type": "code",
   "execution_count": 9,
   "metadata": {},
   "outputs": [
    {
     "name": "stdout",
     "output_type": "stream",
     "text": [
      "for  150  teeth:\n",
      "PitchDiameter =  95.4929658551372\n",
      "OutsideDiameter =  93.4849658551372\n"
     ]
    }
   ],
   "source": [
    "#pulley specific vars\n",
    "N = 150             #integer number of teeth\n",
    "\n",
    "#GT2 profile vars\n",
    "P = 2               #[mm] pitch of one tooth\n",
    "PLD = .254          #[mm] top of tooth to pithc line\n",
    "h = .75             #[mm] height of tooth\n",
    "U = h + PLD         #[mm] distance from pitch line to belt tooth bottom\n",
    " \n",
    "#calculated variables\n",
    "PitchDiameter =  P*N / np.pi\n",
    "OutsideDiameter = PitchDiameter - 2*U\n",
    "\n",
    "\n",
    "#print\n",
    "print(\"for \" , N , \" teeth:\")\n",
    "print(\"PitchDiameter = \"   , PitchDiameter)\n",
    "print(\"OutsideDiameter = \" , OutsideDiameter)"
   ]
  },
  {
   "cell_type": "markdown",
   "metadata": {},
   "source": [
    "### robot gear ratio calculations:"
   ]
  },
  {
   "cell_type": "code",
   "execution_count": 13,
   "metadata": {},
   "outputs": [
    {
     "name": "stdout",
     "output_type": "stream",
     "text": [
      "6.470588235294118 mm/s\n",
      "54.09090909090909\n"
     ]
    }
   ],
   "source": [
    "rMax = 350  #mm - length of the \n",
    "\n",
    "\n",
    "\n",
    "#gear ratio for radial(leadscrew) axis\n",
    "n = 15     #teeth on the small GT2 gear\n",
    "N = 150    #teeth on the large GT2 gear\n",
    "G = 55     #teeth on the large helical bevel gear\n",
    "g = 17     #teeth on the small helical bevel gear\n",
    "lead = 8   #[mm/rev] lead \n",
    "\n",
    "#find traversal time of r axis over rMax\n",
    "vn_max = 2.5                #[revs/sec]\n",
    "vN_max = vn_max * n/N       #[revs/sec]\n",
    "vg_max = vN_max * G/g       #[revs/sec]\n",
    "v_gantry = vg_max * lead    #[mm/s] = [revs/sec] * [mm/rev]\n",
    "print(v_gantry,\"mm/s\")\n",
    "print(rMax/v_gantry,\"sec/gantry Traversal\")\n"
   ]
  },
  {
   "cell_type": "code",
   "execution_count": 15,
   "metadata": {},
   "outputs": [
    {
     "name": "stdout",
     "output_type": "stream",
     "text": [
      "0.25 revs/sec\n",
      "4.0 sec/rev\n"
     ]
    }
   ],
   "source": [
    "#find the time to complete one theta cycle\n",
    "vn_max = 2.5  #[rev/sec]\n",
    "vN_max = vn_max * n/N\n",
    "print(vN_max,\"revs/sec\")\n",
    "print(1/vN_max,\"sec/rev\")"
   ]
  },
  {
   "cell_type": "code",
   "execution_count": null,
   "metadata": {},
   "outputs": [],
   "source": []
  }
 ],
 "metadata": {
  "kernelspec": {
   "display_name": "Python 3",
   "language": "python",
   "name": "python3"
  },
  "language_info": {
   "codemirror_mode": {
    "name": "ipython",
    "version": 3
   },
   "file_extension": ".py",
   "mimetype": "text/x-python",
   "name": "python",
   "nbconvert_exporter": "python",
   "pygments_lexer": "ipython3",
   "version": "3.7.1"
  }
 },
 "nbformat": 4,
 "nbformat_minor": 2
}
